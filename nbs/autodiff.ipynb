{
 "cells": [
  {
   "cell_type": "markdown",
   "id": "e8c4373a",
   "metadata": {},
   "source": [
    "# Autodiff"
   ]
  },
  {
   "cell_type": "markdown",
   "id": "582441e3",
   "metadata": {},
   "source": [
    "For more please visit [autodiff_cook]"
   ]
  },
  {
   "cell_type": "code",
   "execution_count": 1,
   "id": "aa0a1083",
   "metadata": {},
   "outputs": [],
   "source": [
    "from jax import grad\n",
    "import jax.numpy as jnp"
   ]
  },
  {
   "cell_type": "markdown",
   "id": "8218cfd7",
   "metadata": {},
   "source": [
    "## grad"
   ]
  },
  {
   "cell_type": "code",
   "execution_count": 6,
   "id": "43be560b",
   "metadata": {},
   "outputs": [],
   "source": [
    "def operation(x):\n",
    "    return 2*x\n",
    "\n",
    "grad_operation = grad(operation)"
   ]
  },
  {
   "cell_type": "code",
   "execution_count": 8,
   "id": "439338c9",
   "metadata": {},
   "outputs": [
    {
     "name": "stderr",
     "output_type": "stream",
     "text": [
      "WARNING:absl:No GPU/TPU found, falling back to CPU. (Set TF_CPP_MIN_LOG_LEVEL=0 and rerun for more info.)\n"
     ]
    },
    {
     "name": "stdout",
     "output_type": "stream",
     "text": [
      "2.0\n"
     ]
    }
   ],
   "source": [
    "print(grad_operation(100.))"
   ]
  },
  {
   "cell_type": "markdown",
   "id": "e36d2aac",
   "metadata": {},
   "source": [
    "Let's test its math\n",
    "\n",
    "$f(x)=x^2+5x; f'(x) = 2x+5$"
   ]
  },
  {
   "cell_type": "code",
   "execution_count": 29,
   "id": "8184c382",
   "metadata": {},
   "outputs": [
    {
     "name": "stdout",
     "output_type": "stream",
     "text": [
      "205.0\n",
      "17.0\n"
     ]
    }
   ],
   "source": [
    "def operation(x):\n",
    "    return jnp.power(x,2) + 5*x\n",
    "\n",
    "grad_operation = grad(operation)\n",
    "print(grad_operation(100.))\n",
    "print(grad_operation(6.))"
   ]
  },
  {
   "cell_type": "markdown",
   "id": "ed274473",
   "metadata": {},
   "source": [
    "**The out put of the function can only be a scala, that we can backward on, not a vector or matrix**"
   ]
  },
  {
   "cell_type": "code",
   "execution_count": 12,
   "id": "2c9e271a",
   "metadata": {},
   "outputs": [
    {
     "name": "stdout",
     "output_type": "stream",
     "text": [
      "Gradient only defined for scalar-output functions. Output had shape: (3,).\n"
     ]
    }
   ],
   "source": [
    "try:\n",
    "    print(grad_operation(jnp.array([10.,20.,30.])))\n",
    "except Exception as e:\n",
    "    print(e)"
   ]
  },
  {
   "cell_type": "markdown",
   "id": "5517eabc",
   "metadata": {},
   "source": [
    "The input can be in richer shape though"
   ]
  },
  {
   "cell_type": "code",
   "execution_count": 36,
   "id": "da5e88a9",
   "metadata": {},
   "outputs": [
    {
     "name": "stdout",
     "output_type": "stream",
     "text": [
      "[  0.       200.         0.         0.        17.280003]\n"
     ]
    }
   ],
   "source": [
    "def relu(x):\n",
    "    return jnp.maximum(x, jnp.zeros(x.shape))\n",
    "\n",
    "def operation(w):\n",
    "    x = jnp.array([100.,50.,30.,20.,20])\n",
    "    for i in range(3):\n",
    "        x = x*w\n",
    "        x = relu(x)\n",
    "    return (x*w).sum()\n",
    "\n",
    "grad_operation = grad(operation)\n",
    "print(grad_operation(jnp.array([-1,1,0,-.5,.6])))"
   ]
  },
  {
   "cell_type": "markdown",
   "id": "2e4f88b9",
   "metadata": {},
   "source": [
    "## Weights as list of things"
   ]
  },
  {
   "cell_type": "code",
   "execution_count": 37,
   "id": "6422205c",
   "metadata": {},
   "outputs": [],
   "source": [
    "import jax"
   ]
  },
  {
   "cell_type": "code",
   "execution_count": 41,
   "id": "51828aa6",
   "metadata": {},
   "outputs": [],
   "source": [
    "key = jax.random.PRNGKey(42)"
   ]
  },
  {
   "cell_type": "code",
   "execution_count": 49,
   "id": "dead147d",
   "metadata": {},
   "outputs": [],
   "source": [
    "def relu(x):\n",
    "    return jnp.maximum(x, jnp.zeros(x.shape))\n",
    "\n",
    "layers = [jax.random.normal(key, (28,16)),\n",
    "          jax.random.normal(key, (16,16)),\n",
    "          jax.random.normal(key, (16,10))]\n",
    "\n",
    "def operation(w):\n",
    "    x = jax.random.normal(key,(8,28))\n",
    "    for i in range(3):\n",
    "        x = x@layers[i]\n",
    "        x = relu(x)\n",
    "    return (x.sum(-1)-jnp.ones(x.shape[0])).mean()\n",
    "\n",
    "grad_operation = grad(operation)\n",
    "g1, g2, g3 = grad_operation(layers)"
   ]
  },
  {
   "cell_type": "markdown",
   "id": "95c5a971",
   "metadata": {},
   "source": [
    "## Weights as dictionary"
   ]
  },
  {
   "cell_type": "code",
   "execution_count": 57,
   "id": "b16f1f38",
   "metadata": {},
   "outputs": [],
   "source": [
    "layers = dict((f\"layer_{i}\", w) for i, w in enumerate([jax.random.normal(key, (28,16)),\n",
    "          jax.random.normal(key, (16,16)),\n",
    "          jax.random.normal(key, (16,10))]))\n",
    "\n",
    "def operation(w):\n",
    "    x = jax.random.normal(key,(8,28))\n",
    "    for i in range(3):\n",
    "        x = x@layers[f\"layer_{i}\"]\n",
    "        x = relu(x)\n",
    "    return (x.sum(-1)-jnp.ones(x.shape[0])).mean()\n",
    "\n",
    "grad_operation = grad(operation)\n",
    "grad_dict = grad_operation(layers)"
   ]
  },
  {
   "cell_type": "code",
   "execution_count": 58,
   "id": "ba97e1d6",
   "metadata": {},
   "outputs": [
    {
     "name": "stdout",
     "output_type": "stream",
     "text": [
      "layer_0:\t(28, 16)\n",
      "layer_1:\t(16, 16)\n",
      "layer_2:\t(16, 10)\n"
     ]
    }
   ],
   "source": [
    "for k, w in grad_dict.items():\n",
    "    print(f\"{k}:\\t{w.shape}\")"
   ]
  },
  {
   "cell_type": "markdown",
   "id": "ad1ac5d6",
   "metadata": {},
   "source": [
    "## Jacobian\n",
    "\n",
    "You can view the difference between [Gradient, Jacobian, Hessian, Laplacian](https://najeebkhan.github.io/blog/VecCal.html)\n",
    "\n",
    "The difference between derivative, gradient and Jacobian is between the input/output dimension"
   ]
  },
  {
   "cell_type": "code",
   "execution_count": 62,
   "id": "61c6b451",
   "metadata": {},
   "outputs": [],
   "source": [
    "W = jax.random.normal(key,(5,10))"
   ]
  },
  {
   "cell_type": "markdown",
   "id": "74b3aa66",
   "metadata": {},
   "source": [
    "n=5; m=10"
   ]
  },
  {
   "cell_type": "code",
   "execution_count": 78,
   "id": "7a8bacee",
   "metadata": {},
   "outputs": [],
   "source": [
    "def matmul(x):\n",
    "    return x@W\n",
    "\n",
    "J = jax.jacfwd(matmul)(jax.random.normal(key,(5,)))"
   ]
  },
  {
   "cell_type": "markdown",
   "id": "3651943e",
   "metadata": {},
   "source": [
    "J shape m,n"
   ]
  },
  {
   "cell_type": "code",
   "execution_count": 81,
   "id": "777632c5",
   "metadata": {},
   "outputs": [
    {
     "data": {
      "text/plain": [
       "((10, 5),\n",
       " DeviceArray([[ 2.3575046 , -0.13301466, -0.44822735,  1.226089  ,\n",
       "               -0.9021458 ],\n",
       "              [-0.0676787 , -1.8649583 , -0.54558253, -0.58878934,\n",
       "                1.5137577 ],\n",
       "              [-0.36718026,  0.53279227, -0.47208768,  0.20114596,\n",
       "               -0.06903279],\n",
       "              [-0.03573515,  1.4438008 , -0.6238551 ,  0.39448676,\n",
       "               -0.760346  ],\n",
       "              [-0.30748853, -0.95318866,  0.07758974, -0.4147216 ,\n",
       "                0.9220106 ],\n",
       "              [ 1.1332345 ,  1.2754252 , -1.1710014 , -0.15716387,\n",
       "               -1.2646029 ],\n",
       "              [-0.5726349 , -0.35616288,  0.5531245 , -0.76754636,\n",
       "                3.132822  ],\n",
       "              [-0.44970438, -1.4492625 , -0.3600667 ,  0.5882494 ,\n",
       "               -0.53693825],\n",
       "              [-0.35575888,  0.5369553 ,  0.07277003,  0.43019757,\n",
       "                1.9336216 ],\n",
       "              [ 0.25047532, -0.3869919 , -0.8419892 , -0.99975586,\n",
       "               -0.28862053]], dtype=float32))"
      ]
     },
     "execution_count": 81,
     "metadata": {},
     "output_type": "execute_result"
    }
   ],
   "source": [
    "J.shape, J"
   ]
  },
  {
   "cell_type": "code",
   "execution_count": 84,
   "id": "322c9917",
   "metadata": {},
   "outputs": [
    {
     "data": {
      "text/plain": [
       "((10, 5),\n",
       " DeviceArray([[ 2.3575046 , -0.13301466, -0.44822735,  1.226089  ,\n",
       "               -0.9021458 ],\n",
       "              [-0.0676787 , -1.8649583 , -0.54558253, -0.58878934,\n",
       "                1.5137577 ],\n",
       "              [-0.36718026,  0.53279227, -0.47208768,  0.20114596,\n",
       "               -0.06903279],\n",
       "              [-0.03573515,  1.4438008 , -0.6238551 ,  0.39448676,\n",
       "               -0.760346  ],\n",
       "              [-0.30748853, -0.95318866,  0.07758974, -0.4147216 ,\n",
       "                0.9220106 ],\n",
       "              [ 1.1332345 ,  1.2754252 , -1.1710014 , -0.15716387,\n",
       "               -1.2646029 ],\n",
       "              [-0.5726349 , -0.35616288,  0.5531245 , -0.76754636,\n",
       "                3.132822  ],\n",
       "              [-0.44970438, -1.4492625 , -0.3600667 ,  0.5882494 ,\n",
       "               -0.53693825],\n",
       "              [-0.35575888,  0.5369553 ,  0.07277003,  0.43019757,\n",
       "                1.9336216 ],\n",
       "              [ 0.25047532, -0.3869919 , -0.8419892 , -0.99975586,\n",
       "               -0.28862053]], dtype=float32))"
      ]
     },
     "execution_count": 84,
     "metadata": {},
     "output_type": "execute_result"
    }
   ],
   "source": [
    "J = jax.jacrev(matmul)(jax.random.normal(key,(5,)))\n",
    "J.shape,J"
   ]
  },
  {
   "cell_type": "markdown",
   "id": "7cfab3bd",
   "metadata": {},
   "source": [
    "### Hessian matrix"
   ]
  },
  {
   "cell_type": "markdown",
   "id": "05374237",
   "metadata": {},
   "source": [
    "Hessian Shape m,n,n"
   ]
  },
  {
   "cell_type": "code",
   "execution_count": 87,
   "id": "cb1a3d19",
   "metadata": {},
   "outputs": [
    {
     "data": {
      "text/plain": [
       "(10, 5, 5)"
      ]
     },
     "execution_count": 87,
     "metadata": {},
     "output_type": "execute_result"
    }
   ],
   "source": [
    "H = jax.jacrev(jax.jacfwd(matmul))(jax.random.normal(key,(5,)))\n",
    "H.shape"
   ]
  },
  {
   "cell_type": "code",
   "execution_count": null,
   "id": "204fcdc4",
   "metadata": {},
   "outputs": [],
   "source": []
  }
 ],
 "metadata": {
  "kernelspec": {
   "display_name": "Python 3 (ipykernel)",
   "language": "python",
   "name": "python3"
  },
  "language_info": {
   "codemirror_mode": {
    "name": "ipython",
    "version": 3
   },
   "file_extension": ".py",
   "mimetype": "text/x-python",
   "name": "python",
   "nbconvert_exporter": "python",
   "pygments_lexer": "ipython3",
   "version": "3.9.7"
  },
  "toc": {
   "base_numbering": 1,
   "nav_menu": {},
   "number_sections": true,
   "sideBar": true,
   "skip_h1_title": false,
   "title_cell": "Table of Contents",
   "title_sidebar": "Contents",
   "toc_cell": false,
   "toc_position": {},
   "toc_section_display": true,
   "toc_window_display": false
  }
 },
 "nbformat": 4,
 "nbformat_minor": 5
}
