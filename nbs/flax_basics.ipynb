{
 "cells": [
  {
   "cell_type": "markdown",
   "metadata": {
    "id": "yf-nWLh0naJi"
   },
   "source": [
    "# Flax Basics\n",
    "\n",
    "This notebook will walk you through the following workflow:\n",
    "\n",
    "*   Instantiating a model from Flax built-in layers or third-party models.\n",
    "*   Initializing parameters of the model and manually written training.\n",
    "*   Using optimizers provided by Flax to ease training.\n",
    "*   Serialization of parameters and other objects.\n",
    "*   Creating your own models and managing state."
   ]
  },
  {
   "cell_type": "markdown",
   "metadata": {
    "id": "KyANAaZtbs86"
   },
   "source": [
    "## Setting up our environment\n",
    "\n",
    "Here we provide the code needed to set up the environment for our notebook."
   ]
  },
  {
   "cell_type": "code",
   "execution_count": 1,
   "metadata": {
    "colab": {
     "base_uri": "https://localhost:8080/"
    },
    "id": "qdrEVv9tinJn",
    "outputId": "e30aa464-fa52-4f35-df96-716c68a4b3ee"
   },
   "outputs": [],
   "source": [
    "# # Install the latest JAXlib version.\n",
    "# !pip install --upgrade -q pip jax jaxlib\n",
    "# # Install Flax at head:\n",
    "# !pip install --upgrade -q git+https://github.com/google/flax.git"
   ]
  },
  {
   "cell_type": "code",
   "execution_count": 2,
   "metadata": {},
   "outputs": [],
   "source": [
    "import jax\n",
    "from typing import Any, Callable, Sequence, Optional\n",
    "import jax\n",
    "from jax import lax, random, numpy as jnp\n",
    "import flax\n",
    "from flax.core import freeze, unfreeze\n",
    "from flax import linen as nn ## nn exression"
   ]
  },
  {
   "cell_type": "markdown",
   "metadata": {
    "id": "pCCwAbOLiscA"
   },
   "source": [
    "## Linear regression with Flax\n",
    "\n",
    "In the previous *JAX for the impatient* notebook, we finished up with a linear regression example. As we know, linear regression can also be written as a single dense neural network layer, which we will show in the following so that we can compare how it's done.\n",
    "\n",
    "A dense layer is a layer that has a kernel parameter $W\\in\\mathcal{M}_{m,n}(\\mathbb{R})$ where $m$ is the number of features as an output of the model, and $n$ the dimensionality of the input, and a bias parameter $b\\in\\mathbb{R}^m$. The dense layers returns $Wx+b$ from an input $x\\in\\mathbb{R}^n$.\n",
    "\n",
    "This dense layer is already provided by Flax in the `flax.linen` module (here imported as `nn`)."
   ]
  },
  {
   "cell_type": "code",
   "execution_count": 19,
   "metadata": {
    "id": "zWX2zEtphT4Y"
   },
   "outputs": [],
   "source": [
    "# We create one dense layer instance (taking 'features' parameter as input)\n",
    "model = nn.Dense(features=5)\n",
    "\n",
    "# features are num_output_features, something like what we defined dense in keras"
   ]
  },
  {
   "cell_type": "markdown",
   "metadata": {
    "id": "UmzP1QoQYAAN"
   },
   "source": [
    "Layers (and models in general, we'll use that word from now on) are subclasses of the `linen.Module` class.\n",
    "\n",
    "### Model parameters & initialization\n",
    "\n",
    "Parameters are not stored with the models themselves. You need to initialize parameters by calling the `init` function, using a PRNGKey and a dummy input parameter."
   ]
  },
  {
   "cell_type": "code",
   "execution_count": 20,
   "metadata": {},
   "outputs": [],
   "source": [
    "key1, key2 = random.split(random.PRNGKey(0))"
   ]
  },
  {
   "cell_type": "code",
   "execution_count": 21,
   "metadata": {},
   "outputs": [
    {
     "data": {
      "text/plain": [
       "DeviceArray([-2.6105583 ,  0.03385283,  1.0863333 , -1.4802988 ,\n",
       "              0.48895672,  1.062516  ,  0.54174834,  0.0170228 ,\n",
       "              0.2722685 ,  0.30522448], dtype=float32)"
      ]
     },
     "execution_count": 21,
     "metadata": {},
     "output_type": "execute_result"
    }
   ],
   "source": [
    "x = random.normal(key1,(10,))\n",
    "x"
   ]
  },
  {
   "cell_type": "markdown",
   "metadata": {},
   "source": [
    "#### Parameters initialization"
   ]
  },
  {
   "cell_type": "code",
   "execution_count": 22,
   "metadata": {},
   "outputs": [],
   "source": [
    "params = model.init(key2, x)"
   ]
  },
  {
   "cell_type": "code",
   "execution_count": 23,
   "metadata": {},
   "outputs": [
    {
     "data": {
      "text/plain": [
       "(10, 5)"
      ]
     },
     "execution_count": 23,
     "metadata": {},
     "output_type": "execute_result"
    }
   ],
   "source": [
    "params['params']['kernel'].shape"
   ]
  },
  {
   "cell_type": "code",
   "execution_count": 24,
   "metadata": {},
   "outputs": [
    {
     "data": {
      "text/plain": [
       "(5,)"
      ]
     },
     "execution_count": 24,
     "metadata": {},
     "output_type": "execute_result"
    }
   ],
   "source": [
    "params['params']['bias'].shape"
   ]
  },
  {
   "cell_type": "markdown",
   "metadata": {},
   "source": [
    "Apply a function on the tensor, according to the embedded structure"
   ]
  },
  {
   "cell_type": "code",
   "execution_count": 25,
   "metadata": {},
   "outputs": [
    {
     "data": {
      "text/plain": [
       "FrozenDict({\n",
       "    params: {\n",
       "        bias: (5,),\n",
       "        kernel: (10, 5),\n",
       "    },\n",
       "})"
      ]
     },
     "execution_count": 25,
     "metadata": {},
     "output_type": "execute_result"
    }
   ],
   "source": [
    "jax.tree_map(lambda x:x.shape, params)"
   ]
  },
  {
   "cell_type": "code",
   "execution_count": 26,
   "metadata": {
    "colab": {
     "base_uri": "https://localhost:8080/"
    },
    "id": "K529lhzeYtl8",
    "outputId": "06feb9d2-db50-4f41-c169-6df4336f43a5"
   },
   "outputs": [
    {
     "data": {
      "text/plain": [
       "FrozenDict({\n",
       "    params: {\n",
       "        bias: (5,),\n",
       "        kernel: (10, 5),\n",
       "    },\n",
       "})"
      ]
     },
     "execution_count": 26,
     "metadata": {},
     "output_type": "execute_result"
    }
   ],
   "source": [
    "key1, key2 = random.split(random.PRNGKey(0))\n",
    "x = random.normal(key1, (10,)) # Dummy input\n",
    "params = model.init(key2, x) # Initialization call\n",
    "jax.tree_map(lambda x: x.shape, params) # Checking output shapes"
   ]
  },
  {
   "cell_type": "markdown",
   "metadata": {
    "id": "NH7Y9xMEewmO"
   },
   "source": [
    "*Note: JAX and Flax, like NumPy, are row-based systems, meaning that vectors are represented as row vectors and not column vectors. This can be seen in the shape of the kernel here.*\n",
    "\n",
    "The result is what we expect: bias and kernel parameters of the correct size. Under the hood:\n",
    "\n",
    "*   The dummy input variable `x` is used to trigger shape inference: we only declared the number of features we wanted in the output of the model, not the size of the input. Flax finds out by itself the correct size of the kernel.\n",
    "*   The random PRNG key is used to trigger the initialization functions (those have default values provided by the module here).\n",
    "* Initialization functions are called to generate the initial set of parameters that the model will use. Those are functions that take as arguments `(PRNG Key, shape, dtype)` and return an Array of shape `shape`.\n",
    "* The init function returns the initialized set of parameters (you can also get the output of the evaluation on the dummy input with the same syntax but using the `init_with_output` method instead of `init`."
   ]
  },
  {
   "cell_type": "markdown",
   "metadata": {
    "id": "3yL9mKk7naJn"
   },
   "source": [
    "We see in the output that parameters are stored in a `FrozenDict` instance which helps deal with the functional nature of JAX by preventing any mutation of the underlying dict and making the user aware of it. Read more about it in the Flax docs. As a consequence, the following doesn't work:\n"
   ]
  },
  {
   "cell_type": "code",
   "execution_count": 27,
   "metadata": {
    "colab": {
     "base_uri": "https://localhost:8080/"
    },
    "id": "HtOFWeiynaJo",
    "outputId": "689b4230-2a3d-4823-d103-2858e6debc4d"
   },
   "outputs": [
    {
     "name": "stdout",
     "output_type": "stream",
     "text": [
      "Error:  FrozenDict is immutable.\n"
     ]
    }
   ],
   "source": [
    "try:\n",
    "    params['new_key'] = jnp.ones((2,2))\n",
    "except ValueError as e:\n",
    "    print(\"Error: \", e)"
   ]
  },
  {
   "cell_type": "markdown",
   "metadata": {
    "id": "M1qo9M3_naJo"
   },
   "source": [
    "To evaluate the model with a given set of parameters (never stored with the model), we just use the `apply` method by providing it the parameters to use as well as the input:"
   ]
  },
  {
   "cell_type": "code",
   "execution_count": 29,
   "metadata": {},
   "outputs": [
    {
     "data": {
      "text/plain": [
       "DeviceArray([-1.3721193 ,  0.61131495,  0.6442836 ,  2.2192965 ,\n",
       "             -1.1271116 ], dtype=float32)"
      ]
     },
     "execution_count": 29,
     "metadata": {},
     "output_type": "execute_result"
    }
   ],
   "source": [
    "model.apply(params, x)"
   ]
  },
  {
   "cell_type": "markdown",
   "metadata": {
    "id": "lVsjgYzuSBGL"
   },
   "source": [
    "### Gradient descent\n",
    "\n",
    "If you jumped here directly without going through the JAX part, here is the linear regression formulation we're going to use: from a set of data points $\\{(x_i,y_i), i\\in \\{1,\\ldots, k\\}, x_i\\in\\mathbb{R}^n,y_i\\in\\mathbb{R}^m\\}$, we try to find a set of parameters $W\\in \\mathcal{M}_{m,n}(\\mathbb{R}), b\\in\\mathbb{R}^m$ such that the function $f_{W,b}(x)=Wx+b$ minimizes the mean squared error:\n",
    "$$\\mathcal{L}(W,b)\\rightarrow\\frac{1}{k}\\sum_{i=1}^{k} \\frac{1}{2}\\|y_i-f_{W,b}(x_i)\\|^2_2$$\n",
    "\n",
    "Here, we see that the tuple $(W,b)$ matches the parameters of the Dense layer. We'll perform gradient descent using those. Let's first generate the fake data we'll use. The data is exactly the same as in the JAX part's linear regression pytree example."
   ]
  },
  {
   "cell_type": "markdown",
   "metadata": {},
   "source": [
    "### Create fake data"
   ]
  },
  {
   "cell_type": "code",
   "execution_count": 60,
   "metadata": {},
   "outputs": [],
   "source": [
    "# set problem dimensions\n",
    "n_samples = 20\n",
    "x_dim = 10\n",
    "y_dim = 5"
   ]
  },
  {
   "cell_type": "markdown",
   "metadata": {},
   "source": [
    "Generate random ground truth"
   ]
  },
  {
   "cell_type": "code",
   "execution_count": 61,
   "metadata": {},
   "outputs": [],
   "source": [
    "key = random.PRNGKey(12)\n",
    "k1, k2 = random.split(key)\n",
    "\n",
    "W = random.normal(k1, (x_dim, y_dim))\n",
    "b = random.normal(k2, (y_dim, ))"
   ]
  },
  {
   "cell_type": "markdown",
   "metadata": {},
   "source": [
    "Store the parameters in a pytree(freezed)"
   ]
  },
  {
   "cell_type": "code",
   "execution_count": 62,
   "metadata": {},
   "outputs": [],
   "source": [
    "true_params = freeze({'params':{'bias': b, 'kernel': W}})"
   ]
  },
  {
   "cell_type": "markdown",
   "metadata": {},
   "source": [
    "Generate samples with additional noise"
   ]
  },
  {
   "cell_type": "code",
   "execution_count": 63,
   "metadata": {},
   "outputs": [],
   "source": [
    "key_sample, key_noise = random.split(k1)\n",
    "\n",
    "x_samples = random.normal(key_sample, (n_samples, x_dim))\n",
    "y_samples = jnp.dot(x_samples, W) + b + 0.1*random.normal(key_noise,(n_samples, y_dim))"
   ]
  },
  {
   "cell_type": "markdown",
   "metadata": {},
   "source": [
    "#### To summarize"
   ]
  },
  {
   "cell_type": "code",
   "execution_count": 67,
   "metadata": {},
   "outputs": [],
   "source": [
    "def get_problem(seed):\n",
    "    \"\"\"\n",
    "    Fetch a problem to solve \n",
    "    \"\"\"\n",
    "    key = random.PRNGKey(seed)\n",
    "    k1, k2 = random.split(key)\n",
    "\n",
    "    W = random.normal(k1, (x_dim, y_dim))\n",
    "    b = random.normal(k2, (y_dim, ))\n",
    "    true_params = freeze({'params':{'bias': b, 'kernel': W}})\n",
    "    \n",
    "    key_sample, key_noise = random.split(k1)\n",
    "\n",
    "    x_samples = random.normal(key_sample, (n_samples, x_dim))\n",
    "    y_samples = jnp.dot(x_samples, W) + b + 0.1*random.normal(key_noise,(n_samples, y_dim))\n",
    "    return W, b, true_params, x_samples, y_samples"
   ]
  },
  {
   "cell_type": "code",
   "execution_count": 68,
   "metadata": {},
   "outputs": [],
   "source": [
    "W, b, true_params, x_samples, y_samples = get_problem(42)"
   ]
  },
  {
   "cell_type": "markdown",
   "metadata": {},
   "source": [
    "Check the data **dimensions** with tree_map"
   ]
  },
  {
   "cell_type": "code",
   "execution_count": 64,
   "metadata": {},
   "outputs": [
    {
     "data": {
      "text/plain": [
       "{'x_samples': (20, 10), 'y_samples': (20, 5)}"
      ]
     },
     "execution_count": 64,
     "metadata": {},
     "output_type": "execute_result"
    }
   ],
   "source": [
    "jax.tree_map(lambda x:x.shape,{\"x_samples\":x_samples,\"y_samples\":y_samples})"
   ]
  },
  {
   "cell_type": "markdown",
   "metadata": {
    "id": "ZHkioicCiUbx"
   },
   "source": [
    "We copy the same training loop that we used in the JAX pytree linear regression example with `jax.value_and_grad()`, but here we can use `model.apply()` instead of having to define our own feed-forward function (`predict_pytree()` in the JAX example)."
   ]
  },
  {
   "cell_type": "code",
   "execution_count": 49,
   "metadata": {},
   "outputs": [],
   "source": [
    "def mse(params, x_batched, y_batched):\n",
    "    def squared_error(x,y):\n",
    "        pred = model.apply(params, x)\n",
    "        return jnp.inner(y-pred, y-pred) / 2.0\n",
    "    # vmap is to vectorize the squared_error operation\n",
    "    return jnp.mean(jax.vmap(squared_error)(x_batched, y_batched),axis=0)"
   ]
  },
  {
   "cell_type": "code",
   "execution_count": 50,
   "metadata": {},
   "outputs": [
    {
     "name": "stdout",
     "output_type": "stream",
     "text": [
      "Loss for \"true\" W,b:\t 0.027116928\n"
     ]
    }
   ],
   "source": [
    "learning_rate = 0.3\n",
    "print('Loss for \"true\" W,b:\\t', mse(true_params, x_samples, y_samples))\n",
    "loss_grad_fn = jax.value_and_grad(mse)"
   ]
  },
  {
   "cell_type": "markdown",
   "metadata": {},
   "source": [
    "### An update function with a lambda optimizer"
   ]
  },
  {
   "cell_type": "markdown",
   "metadata": {},
   "source": [
    "In this case ```tree_map``` function takes 1 lambda function and 2 arguements(2 pytree with same shape)\n",
    "\n",
    "Hence the lambda function takes 2 arguements."
   ]
  },
  {
   "cell_type": "code",
   "execution_count": 51,
   "metadata": {},
   "outputs": [],
   "source": [
    "@jax.jit\n",
    "def update_params(params, learning_rate, grads):\n",
    "    \"\"\"\n",
    "    Pretty much a SGD expressed in a lambda\n",
    "    \"\"\"\n",
    "    params = jax.tree_map(\n",
    "        lambda parameters,gradients: parameters- learning_rate * gradients, params, grads\n",
    "    )\n",
    "    return params"
   ]
  },
  {
   "cell_type": "markdown",
   "metadata": {},
   "source": [
    "### Training"
   ]
  },
  {
   "cell_type": "code",
   "execution_count": 52,
   "metadata": {},
   "outputs": [
    {
     "name": "stdout",
     "output_type": "stream",
     "text": [
      "Loss step 0:  27.911596\n",
      "Loss step 10:  0.52542466\n",
      "Loss step 20:  0.19694467\n",
      "Loss step 30:  0.104476385\n",
      "Loss step 40:  0.06338705\n",
      "Loss step 50:  0.041814588\n",
      "Loss step 60:  0.0295865\n",
      "Loss step 70:  0.022402437\n",
      "Loss step 80:  0.018111883\n",
      "Loss step 90:  0.015530384\n",
      "Loss step 100:  0.013971983\n"
     ]
    }
   ],
   "source": [
    "for i in range(101):\n",
    "    # Perform on gradient upate\n",
    "    loss_val, grads = loss_grad_fn(params, x_samples, y_samples)\n",
    "    params = update_params(params, learning_rate, grads)\n",
    "    if i%10 == 0:\n",
    "        print(f'Loss step {i}: ', loss_val)"
   ]
  },
  {
   "cell_type": "markdown",
   "metadata": {
    "id": "wGKru__mi15v"
   },
   "source": [
    "And finally perform the gradient descent."
   ]
  },
  {
   "cell_type": "markdown",
   "metadata": {
    "id": "zqEnJ9Poyb6q"
   },
   "source": [
    "### Optimizing with Optax\n",
    "\n",
    "Flax used to use its own `flax.optim` package for optimization, but with\n",
    "[FLIP #1009](https://github.com/google/flax/blob/main/docs/flip/1009-optimizer-api.md)\n",
    "this was deprecated in favor of\n",
    "[Optax](https://github.com/deepmind/optax).\n",
    "\n",
    "Basic usage of Optax is straightforward:\n",
    "\n",
    "1.   Choose an optimization method (e.g. `optax.sgd`).\n",
    "2.   Create optimizer state from parameters.\n",
    "3.   Compute the gradients of your loss with `jax.value_and_grad()`.\n",
    "4.   At every iteration, call the Optax `update` function to update the internal\n",
    "     optimizer state and create an update to the parameters. Then add the update\n",
    "     to the parameters with Optax's `apply_updates` method.\n",
    "\n",
    "Note that Optax can do a lot more: it's designed for composing simple gradient\n",
    "transformations into more complex transformations that allows to implement a\n",
    "wide range of optimizers. There is also support for changing optimizer\n",
    "hyperparameters over time (\"schedules\"), applying different updates to different\n",
    "parts of the parameter tree (\"masking\") and much more. For details please refer\n",
    "to the\n",
    "[official documentation](https://optax.readthedocs.io/en/latest/)."
   ]
  },
  {
   "cell_type": "code",
   "execution_count": 75,
   "metadata": {},
   "outputs": [],
   "source": [
    "import optax\n",
    "\n",
    "W, b, true_params, x_samples, y_samples = get_problem(42)\n",
    "alpha = .1\n",
    "\n",
    "# initialize the optimizers, this part is like pytorch,\n",
    "# with learning rate with model parameters\n",
    "\n",
    "# tx = optax.sgd(learning_rate=alpha)\n",
    "tx = optax.adam(learning_rate=alpha) # adam optimizer\n",
    "opt_state = tx.init(params)\n",
    "\n",
    "loss_grad_fn = jax.value_and_grad(mse)"
   ]
  },
  {
   "cell_type": "code",
   "execution_count": 76,
   "metadata": {},
   "outputs": [
    {
     "name": "stdout",
     "output_type": "stream",
     "text": [
      "Loss step 0: 0.11747979372739792\n",
      "Loss step 10: 0.025752363726496696\n",
      "Loss step 20: 0.017380256205797195\n",
      "Loss step 30: 0.016398658975958824\n",
      "Loss step 40: 0.013886086642742157\n",
      "Loss step 50: 0.013021932914853096\n",
      "Loss step 60: 0.012843652628362179\n",
      "Loss step 70: 0.012776580639183521\n",
      "Loss step 80: 0.012747618369758129\n",
      "Loss step 90: 0.012733488343656063\n",
      "Loss step 100: 0.012730260379612446\n"
     ]
    }
   ],
   "source": [
    "for i in range(101):\n",
    "    loss_val, grads = loss_grad_fn(params, x_samples, y_samples)\n",
    "    # optimizer state was updated all the while\n",
    "    updates, opt_state = tx.update(grads, opt_state)\n",
    "    # apply the updates to the parameters\n",
    "    params = optax.apply_updates(params, updates)\n",
    "    if i % 10 == 0:\n",
    "        print(f\"Loss step {i}: {loss_val}\")"
   ]
  },
  {
   "cell_type": "markdown",
   "metadata": {
    "id": "0eAPPwtpXYu7"
   },
   "source": [
    "### Serializing the result\n",
    "\n",
    "Now that we're happy with the result of our training, we might want to save the model parameters to load them back later. Flax provides a serialization package to enable you to do that."
   ]
  },
  {
   "cell_type": "code",
   "execution_count": 77,
   "metadata": {},
   "outputs": [],
   "source": [
    "from flax import serialization"
   ]
  },
  {
   "cell_type": "code",
   "execution_count": 82,
   "metadata": {},
   "outputs": [
    {
     "data": {
      "text/plain": [
       "b'\\x81\\xa6params\\x82\\xa4bias\\xc7!\\x01\\x93\\x91\\x05\\xa7float32\\xc4\\x14\\x96\\xf8\\x0b\\xbf\\xbc\\xaa\\x84?B\\xb2?\\xbfp\\xb2\\x05\\xbf 3\\x8f?\\xa6kernel\\xc7\\xd6\\x01\\x93\\x92\\n\\x05\\xa7float32\\xc4\\xc8\\x0bv\\x0c@\\xbc\\x8d\\x8b?\\xcd\\xcc\\xa4\\xbf\\xa7K\\\\\\xbe\\xb8\\x8d3?J\\xa9\\xd1\\xbf^\\x88m\\xbf\\x05\\xb2\\xca?\\x12\\xcb!?\\'\\x81i\\xbf\\x9b\\x82X?\\xa7\\x1a\\x1a@\\x12\\xd4\\x19?\\xd6X\\xf6;\\xf3\\xd8\\xbe\\xbd\\xd0\\x91\\x97\\xbfKY\\x82>\\x84fY\\xbf\\x02\\x02\\x04\\xc0\\x05\\xce\\xea?\\x9d\\x03r?\\xf98\\x07?\\xa0x\\x9a<D5\\x0f\\xbeD\\xc17\\xc0\\x04h*?\\xf1r\\x80\\xbe\\xbc\\xb0\\x13\\xc0\\x9c(\\x92\\xbe\\xddW\\x9c>\\x8d\\xfaY?ODi\\xbe\\xc8B\\xed\\xbev\\xba,? \\xe2\\xcf>x/\\xe1\\xbe\\xea\\xe0\\xb5\\xbe\\xa4\\xc9#?\\x8fu\\xd4\\xbe\\xa1a\\x1c\\xbe\\xa8U\"\\xc0\\xc6\\x8a\\x97\\xbd\\xc6\\x92\\xb0?l\\xe5G\\xbf\\xa8\\x10\\x95=\\xa5\\xac\\xc5?\\xb8\\x8a\\x1a?\\x9c\\xd0M\\xbfY\\x08\\xf9?\\xee!\\x86?'"
      ]
     },
     "execution_count": 82,
     "metadata": {},
     "output_type": "execute_result"
    }
   ],
   "source": [
    "bytes_output = serialization.to_bytes(params)\n",
    "bytes_output"
   ]
  },
  {
   "cell_type": "code",
   "execution_count": 84,
   "metadata": {},
   "outputs": [
    {
     "data": {
      "text/plain": [
       "{'params': {'bias': DeviceArray([-0.5467619 ,  1.0364604 , -0.74881375, -0.522254  ,\n",
       "                1.1187477 ], dtype=float32),\n",
       "  'kernel': DeviceArray([[ 2.1947048 ,  1.0902629 , -1.2875    , -0.21513234,\n",
       "                 0.7013812 ],\n",
       "               [-1.6379788 , -0.92786205,  1.5835577 ,  0.63200486,\n",
       "                -0.91212696],\n",
       "               [ 0.8457429 ,  2.4078767 ,  0.6008922 ,  0.00751791,\n",
       "                -0.09318724],\n",
       "               [-1.1841373 ,  0.2545875 , -0.8492205 , -2.0626225 ,\n",
       "                 1.8344122 ],\n",
       "               [ 0.94536763,  0.5282131 ,  0.01885635, -0.13985163,\n",
       "                -2.871171  ],\n",
       "               [ 0.66564965, -0.25087693, -2.307662  , -0.28546607,\n",
       "                 0.30535784],\n",
       "               [ 0.85147935, -0.22779964, -0.46340013,  0.67472017,\n",
       "                 0.40602207],\n",
       "               [-0.43981528, -0.35523158,  0.63979554, -0.4149594 ,\n",
       "                -0.15271617],\n",
       "               [-2.536478  , -0.07399516,  1.3794792 , -0.78084445,\n",
       "                 0.07278568],\n",
       "               [ 1.5443312 ,  0.6036792 , -0.8039644 ,  1.9455673 ,\n",
       "                 1.0479105 ]], dtype=float32)}}"
      ]
     },
     "execution_count": 84,
     "metadata": {},
     "output_type": "execute_result"
    }
   ],
   "source": [
    "dict_output = serialization.to_state_dict(params)\n",
    "dict_output"
   ]
  },
  {
   "cell_type": "markdown",
   "metadata": {},
   "source": [
    "With same structure and messed up value"
   ]
  },
  {
   "cell_type": "markdown",
   "metadata": {
    "id": "eielPo2KZByd"
   },
   "source": [
    "To load the model back, you'll need to use as a template the model parameter structure, like the one you would get from the model initialization. Here, we use the previously generated `params` as a template. Note that this will produce a new variable structure, and not mutate in-place.\n",
    "\n",
    "*The point of enforcing structure through template is to avoid users issues downstream, so you need to first have the right model that generates the parameters structure.*"
   ]
  },
  {
   "cell_type": "code",
   "execution_count": 95,
   "metadata": {},
   "outputs": [
    {
     "data": {
      "text/plain": [
       "FrozenDict({\n",
       "    params: {\n",
       "        bias: array([-0.5467619 ,  1.0364604 , -0.74881375, -0.522254  ,  1.1187477 ],\n",
       "              dtype=float32),\n",
       "        kernel: array([[ 2.1947048 ,  1.0902629 , -1.2875    , -0.21513234,  0.7013812 ],\n",
       "               [-1.6379788 , -0.92786205,  1.5835577 ,  0.63200486, -0.91212696],\n",
       "               [ 0.8457429 ,  2.4078767 ,  0.6008922 ,  0.00751791, -0.09318724],\n",
       "               [-1.1841373 ,  0.2545875 , -0.8492205 , -2.0626225 ,  1.8344122 ],\n",
       "               [ 0.94536763,  0.5282131 ,  0.01885635, -0.13985163, -2.871171  ],\n",
       "               [ 0.66564965, -0.25087693, -2.307662  , -0.28546607,  0.30535784],\n",
       "               [ 0.85147935, -0.22779964, -0.46340013,  0.67472017,  0.40602207],\n",
       "               [-0.43981528, -0.35523158,  0.63979554, -0.4149594 , -0.15271617],\n",
       "               [-2.536478  , -0.07399516,  1.3794792 , -0.78084445,  0.07278568],\n",
       "               [ 1.5443312 ,  0.6036792 , -0.8039644 ,  1.9455673 ,  1.0479105 ]],\n",
       "              dtype=float32),\n",
       "    },\n",
       "})"
      ]
     },
     "execution_count": 95,
     "metadata": {},
     "output_type": "execute_result"
    }
   ],
   "source": [
    "param_structure = jax.tree_map(lambda x:x*1.2,params)\n",
    "\n",
    "serialization.from_bytes(param_structure,  bytes_output)"
   ]
  },
  {
   "cell_type": "markdown",
   "metadata": {
    "id": "8mNu8nuOhDC5"
   },
   "source": [
    "## Defining your own models\n",
    "\n",
    "Flax allows you to define your own models, which should be a bit more complicated than a linear regression. In this section, we'll show you how to build simple models. To do so, you'll need to create subclasses of the base `nn.Module` class.\n",
    "\n",
    "*Keep in mind that we imported* `linen as nn` *and this only works with the new linen API*"
   ]
  },
  {
   "cell_type": "markdown",
   "metadata": {
    "id": "1sllHAdRlpmQ"
   },
   "source": [
    "### Module basics\n",
    "\n",
    "The base abstraction for models is the `nn.Module` class, and every type of predefined layers in Flax (like the previous `Dense`) is a subclass of `nn.Module`. Let's take a look and start by defining a simple but custom multi-layer perceptron i.e. a sequence of Dense layers interleaved with calls to a non-linear activation function."
   ]
  },
  {
   "cell_type": "code",
   "execution_count": 101,
   "metadata": {},
   "outputs": [
    {
     "data": {
      "text/plain": [
       "FrozenDict({\n",
       "    params: {\n",
       "        layers_0: {\n",
       "            bias: (3,),\n",
       "            kernel: (4, 3),\n",
       "        },\n",
       "        layers_1: {\n",
       "            bias: (4,),\n",
       "            kernel: (3, 4),\n",
       "        },\n",
       "        layers_2: {\n",
       "            bias: (5,),\n",
       "            kernel: (4, 5),\n",
       "        },\n",
       "    },\n",
       "})"
      ]
     },
     "execution_count": 101,
     "metadata": {},
     "output_type": "execute_result"
    }
   ],
   "source": [
    "class ExplicitMLP(nn.Module):\n",
    "    features: Sequence[int]\n",
    "    \n",
    "    def setup(self):\n",
    "        self.layers = [nn.Dense(feat)\n",
    "                      for feat in self.features]\n",
    "        \n",
    "    def __call__(self, inputs):\n",
    "        x = inputs\n",
    "        for i, lyr in enumerate(self.layers):\n",
    "            x = lyr(x)\n",
    "            if i!=len(self.layers)-1:\n",
    "                x = nn.relu(x)\n",
    "        return x\n",
    "    \n",
    "key1, key2 = random.split(random.PRNGKey(0), 2)\n",
    "x = random.uniform(key1, (4,4))\n",
    "\n",
    "model = ExplicitMLP(features=[3,4,5])\n",
    "params = model.init(key2, x)\n",
    "y = model.apply(params, x)\n",
    "\n",
    "# print out the mdoel structure\n",
    "jax.tree_map(lambda x:x.shape, params)"
   ]
  },
  {
   "cell_type": "markdown",
   "metadata": {
    "id": "DDITIjXitEZl"
   },
   "source": [
    "As we can see, a `nn.Module` subclass is made of:\n",
    "\n",
    "*   A collection of data fields (`nn.Module` are Python dataclasses) - here we only have the `features` field of type `Sequence[int]`.\n",
    "*   A `setup()` method that is being called at the end of the `__postinit__` where you can register submodules, variables, parameters you will need in your model.\n",
    "*   A `__call__` function that returns the output of the model from a given input.\n",
    "*   The model structure defines a pytree of parameters following the same tree structure as the model: the params tree contains one `layers_n` sub dict per layer, and each of those contain the parameters of the associated Dense layer. The layout is very explicit.\n",
    "\n",
    "*Note: lists are mostly managed as you would expect (WIP), there are corner cases you should be aware of as pointed out* [here](https://github.com/google/flax/issues/524)\n",
    "\n",
    "Since the module structure and its parameters are not tied to each other, you can't directly call `model(x)` on a given input as it will return an error. The `__call__` function is being wrapped up in the `apply` one, which is the one to call on an input:"
   ]
  },
  {
   "cell_type": "code",
   "execution_count": 102,
   "metadata": {
    "colab": {
     "base_uri": "https://localhost:8080/"
    },
    "id": "DEYrVA6dnaJu",
    "outputId": "4af16ec5-b52a-43b0-fc47-1f8ab25e7058"
   },
   "outputs": [
    {
     "name": "stdout",
     "output_type": "stream",
     "text": [
      "\"ExplicitMLP\" object has no attribute \"layers\"\n"
     ]
    }
   ],
   "source": [
    "try:\n",
    "    y = model(x) # Returns an error\n",
    "except AttributeError as e:\n",
    "    print(e)"
   ]
  },
  {
   "cell_type": "markdown",
   "metadata": {
    "id": "I__UrmShnaJu"
   },
   "source": [
    "Since here we have a very simple model, we could have used an alternative (but equivalent) way of declaring the submodules inline in the `__call__` using the `@nn.compact` annotation like so:"
   ]
  },
  {
   "cell_type": "code",
   "execution_count": 106,
   "metadata": {},
   "outputs": [],
   "source": [
    "class SimpleMLP(nn.Module):\n",
    "    features: Sequence[int]\n",
    "        \n",
    "    @nn.compact\n",
    "    def __call__(self, inputs):\n",
    "        x = inputs\n",
    "        for i, feat in enumerate(self.features):\n",
    "            x = nn.Dense(feat, name=f'layer_{i}')(x)\n",
    "            if i!=len(self.features)-1:\n",
    "                x = nn.relu(x)\n",
    "        return x"
   ]
  },
  {
   "cell_type": "code",
   "execution_count": 107,
   "metadata": {},
   "outputs": [],
   "source": [
    "key1, key2 = random.split(random.PRNGKey(0), 2)\n",
    "x = random.uniform(key1, (2,2))\n",
    "\n",
    "model = SimpleMLP(features=[4,5,6])\n",
    "params = model.init(key2, x)\n",
    "y = model.apply(params, x)"
   ]
  },
  {
   "cell_type": "code",
   "execution_count": 109,
   "metadata": {},
   "outputs": [
    {
     "data": {
      "text/plain": [
       "FrozenDict({\n",
       "    params: {\n",
       "        layer_0: {\n",
       "            bias: (4,),\n",
       "            kernel: (2, 4),\n",
       "        },\n",
       "        layer_1: {\n",
       "            bias: (5,),\n",
       "            kernel: (4, 5),\n",
       "        },\n",
       "        layer_2: {\n",
       "            bias: (6,),\n",
       "            kernel: (5, 6),\n",
       "        },\n",
       "    },\n",
       "})"
      ]
     },
     "execution_count": 109,
     "metadata": {},
     "output_type": "execute_result"
    }
   ],
   "source": [
    "jax.tree_map(lambda x:x.shape, params)"
   ]
  },
  {
   "cell_type": "markdown",
   "metadata": {
    "id": "es7YHjgexT-L"
   },
   "source": [
    "There are, however, a few differences you should be aware of between the two declaration modes:\n",
    "\n",
    "*   In `setup`, you are able to name some sublayers and keep them around for further use (e.g. encoder/decoder methods in autoencoders).\n",
    "*   If you want to have multiple methods, then you **need** to declare the module using `setup`, as the `@nn.compact` annotation only allows one method to be annotated.\n",
    "*   The last initialization will be handled differently. See these notes for more details (TODO: add notes link).\n"
   ]
  },
  {
   "cell_type": "markdown",
   "metadata": {
    "id": "-ykceROJyp7W"
   },
   "source": [
    "### Module parameters\n",
    "\n",
    "In the previous MLP example, we relied only on predefined layers and operators (`Dense`, `relu`). Let's imagine that you didn't have a Dense layer provided by Flax and you wanted to write it on your own. Here is what it would look like using the `@nn.compact` way to declare a new modules:"
   ]
  },
  {
   "cell_type": "code",
   "execution_count": 111,
   "metadata": {},
   "outputs": [
    {
     "data": {
      "text/plain": [
       "FrozenDict({\n",
       "    params: {\n",
       "        bias: (3,),\n",
       "        kernel: (4, 3),\n",
       "    },\n",
       "})"
      ]
     },
     "execution_count": 111,
     "metadata": {},
     "output_type": "execute_result"
    }
   ],
   "source": [
    "class SimpleDense(nn.Module):\n",
    "    features: int\n",
    "    kernel_init: Callable = nn.initializers.lecun_normal()\n",
    "    bias_init: Callable = nn.initializers.zeros\n",
    "        \n",
    "    @nn.compact\n",
    "    def __call__(self, inputs):\n",
    "        kernel = self.param('kernel',\n",
    "                            self.kernel_init,\n",
    "                            (inputs.shape[-1], self.features)\n",
    "                           )\n",
    "        y = lax.dot_general(inputs, kernel, (((inputs.ndim - 1,),(0,)),((), ())),)\n",
    "        \n",
    "        bias = self.param('bias', self.bias_init, (self.features,))\n",
    "        y = y + bias\n",
    "        return y\n",
    "    \n",
    "key1, key2 = random.split(random.PRNGKey(0), 2)\n",
    "x = random.uniform(key1, (4,4))\n",
    "\n",
    "model = SimpleDense(features=3)\n",
    "params = model.init(key2, x)\n",
    "y = model.apply(params, x)\n",
    "\n",
    "jax.tree_map(lambda x:x.shape, params)"
   ]
  },
  {
   "cell_type": "markdown",
   "metadata": {
    "id": "MKyhfzVpzC94"
   },
   "source": [
    "Here, we see how to both declare and assign a parameter to the model using the `self.param` method. It takes as input `(name, init_fn, *init_args)` : \n",
    "\n",
    "*   `name` is simply the name of the parameter that will end up in the parameter structure.\n",
    "*   `init_fn` is a function with input `(PRNGKey, *init_args)` returning an Array, with `init_args` being the arguments needed to call the initialisation function.\n",
    "*   `init_args` are the arguments to provide to the initialization function.\n",
    "\n",
    "Such params can also be declared in the `setup` method; it won't be able to use shape inference because Flax is using lazy initialization at the first call site."
   ]
  },
  {
   "cell_type": "markdown",
   "metadata": {
    "id": "QmSpxyqLDr58"
   },
   "source": [
    "### Variables and collections of variables\n",
    "\n",
    "As we've seen so far, working with models means working with:\n",
    "\n",
    "*   A subclass of `nn.Module`;\n",
    "*   A pytree of parameters for the model (typically from `model.init()`);\n",
    "\n",
    "However this is not enough to cover everything that we would need for machine learning, especially neural networks. In some cases, you might want your neural network to keep track of some internal state while it runs (e.g. batch normalization layers). There is a way to declare variables beyond the parameters of the model with the `variable` method.\n",
    "\n",
    "For demonstration purposes, we'll implement a simplified but similar mechanism to batch normalization: we'll store running averages and subtract those to the input at training time. For proper batchnorm, you should use (and look at) the implementation [here](https://github.com/google/flax/blob/main/flax/linen/normalization.py)."
   ]
  },
  {
   "cell_type": "code",
   "execution_count": 22,
   "metadata": {
    "colab": {
     "base_uri": "https://localhost:8080/"
    },
    "id": "J6_tR-nPzB1i",
    "outputId": "75465fd6-cdc8-497c-a3ec-7f709b5dde7a"
   },
   "outputs": [
    {
     "name": "stdout",
     "output_type": "stream",
     "text": [
      "initialized variables:\n",
      " FrozenDict({\n",
      "    batch_stats: {\n",
      "        mean: DeviceArray([0., 0., 0., 0., 0.], dtype=float32),\n",
      "    },\n",
      "    params: {\n",
      "        bias: DeviceArray([0., 0., 0., 0., 0.], dtype=float32),\n",
      "    },\n",
      "})\n",
      "updated state:\n",
      " FrozenDict({\n",
      "    batch_stats: {\n",
      "        mean: DeviceArray([[0.01, 0.01, 0.01, 0.01, 0.01]], dtype=float32),\n",
      "    },\n",
      "})\n"
     ]
    }
   ],
   "source": [
    "class BiasAdderWithRunningMean(nn.Module):\n",
    "  decay: float = 0.99\n",
    "\n",
    "  @nn.compact\n",
    "  def __call__(self, x):\n",
    "    # easy pattern to detect if we're initializing via empty variable tree\n",
    "    is_initialized = self.has_variable('batch_stats', 'mean')\n",
    "    ra_mean = self.variable('batch_stats', 'mean',\n",
    "                            lambda s: jnp.zeros(s),\n",
    "                            x.shape[1:])\n",
    "    mean = ra_mean.value # This will either get the value or trigger init\n",
    "    bias = self.param('bias', lambda rng, shape: jnp.zeros(shape), x.shape[1:])\n",
    "    if is_initialized:\n",
    "      ra_mean.value = self.decay * ra_mean.value + (1.0 - self.decay) * jnp.mean(x, axis=0, keepdims=True)\n",
    "\n",
    "    return x - ra_mean.value + bias\n",
    "\n",
    "\n",
    "key1, key2 = random.split(random.PRNGKey(0), 2)\n",
    "x = jnp.ones((10,5))\n",
    "model = BiasAdderWithRunningMean()\n",
    "variables = model.init(key1, x)\n",
    "print('initialized variables:\\n', variables)\n",
    "y, updated_state = model.apply(variables, x, mutable=['batch_stats'])\n",
    "print('updated state:\\n', updated_state)"
   ]
  },
  {
   "cell_type": "markdown",
   "metadata": {
    "id": "5OHBbMJng3ic"
   },
   "source": [
    "Here, `updated_state` returns only the state variables that are being mutated by the model while applying it on data. To update the variables and get the new parameters of the model, we can use the following pattern:"
   ]
  },
  {
   "cell_type": "code",
   "execution_count": 23,
   "metadata": {
    "colab": {
     "base_uri": "https://localhost:8080/"
    },
    "id": "IbTsCAvZcdBy",
    "outputId": "09a8bdd1-eaf8-401a-cf7c-386a7a5aa87b"
   },
   "outputs": [
    {
     "name": "stdout",
     "output_type": "stream",
     "text": [
      "updated state:\n",
      " FrozenDict({\n",
      "    batch_stats: {\n",
      "        mean: DeviceArray([[0.01, 0.01, 0.01, 0.01, 0.01]], dtype=float32),\n",
      "    },\n",
      "})\n",
      "updated state:\n",
      " FrozenDict({\n",
      "    batch_stats: {\n",
      "        mean: DeviceArray([[0.0299, 0.0299, 0.0299, 0.0299, 0.0299]], dtype=float32),\n",
      "    },\n",
      "})\n",
      "updated state:\n",
      " FrozenDict({\n",
      "    batch_stats: {\n",
      "        mean: DeviceArray([[0.059601, 0.059601, 0.059601, 0.059601, 0.059601]], dtype=float32),\n",
      "    },\n",
      "})\n"
     ]
    }
   ],
   "source": [
    "for val in [1.0, 2.0, 3.0]:\n",
    "  x = val * jnp.ones((10,5))\n",
    "  y, updated_state = model.apply(variables, x, mutable=['batch_stats'])\n",
    "  old_state, params = variables.pop('params')\n",
    "  variables = freeze({'params': params, **updated_state})\n",
    "  print('updated state:\\n', updated_state) # Shows only the mutable part"
   ]
  },
  {
   "cell_type": "markdown",
   "metadata": {
    "id": "GuUSOSKegKIM"
   },
   "source": [
    "From this simplified example, you should be able to derive a full BatchNorm implementation, or any layer involving a state. To finish, let's add an optimizer to see how to play with both parameters updated by an optimizer and state variables.\n",
    "\n",
    "*This example isn't doing anything and is only for demonstration purposes.*"
   ]
  },
  {
   "cell_type": "code",
   "execution_count": 29,
   "metadata": {
    "colab": {
     "base_uri": "https://localhost:8080/"
    },
    "id": "TUgAbUPpnaJw",
    "outputId": "0906fbab-b866-4956-d231-b1374415d448"
   },
   "outputs": [
    {
     "name": "stdout",
     "output_type": "stream",
     "text": [
      "Updated state:  FrozenDict({\n",
      "    batch_stats: {\n",
      "        mean: DeviceArray([[0.01, 0.01, 0.01, 0.01, 0.01]], dtype=float32),\n",
      "    },\n",
      "})\n",
      "Updated state:  FrozenDict({\n",
      "    batch_stats: {\n",
      "        mean: DeviceArray([[0.0199, 0.0199, 0.0199, 0.0199, 0.0199]], dtype=float32),\n",
      "    },\n",
      "})\n",
      "Updated state:  FrozenDict({\n",
      "    batch_stats: {\n",
      "        mean: DeviceArray([[0.029701, 0.029701, 0.029701, 0.029701, 0.029701]], dtype=float32),\n",
      "    },\n",
      "})\n"
     ]
    }
   ],
   "source": [
    "def update_step(tx, apply_fn, x, opt_state, params, state):\n",
    "\n",
    "  def loss(params):\n",
    "    y, updated_state = apply_fn({'params': params, **state},\n",
    "                                x, mutable=list(state.keys()))\n",
    "    l = ((x - y) ** 2).sum()\n",
    "    return l, updated_state\n",
    "\n",
    "  (l, state), grads = jax.value_and_grad(loss, has_aux=True)(params)\n",
    "  updates, opt_state = tx.update(grads, opt_state)\n",
    "  params = optax.apply_updates(params, updates)\n",
    "  return opt_state, params, state\n",
    "\n",
    "x = jnp.ones((10,5))\n",
    "variables = model.init(random.PRNGKey(0), x)\n",
    "state, params = variables.pop('params')\n",
    "del variables\n",
    "tx = optax.sgd(learning_rate=0.02)\n",
    "opt_state = tx.init(params)\n",
    "\n",
    "for _ in range(3):\n",
    "  opt_state, params, state = update_step(tx, model.apply, x, opt_state, params, state)\n",
    "  print('Updated state: ', state)"
   ]
  },
  {
   "cell_type": "markdown",
   "metadata": {
    "id": "eWUmx5EjtWge"
   },
   "source": [
    "Note that the above function has a quite verbose signature and it would not actually\n",
    "work with `jax.jit()` because the function arguments are not \"valid JAX types\".\n",
    "\n",
    "We provide a handy wrapper that simplifies the above code, see:\n",
    "\n",
    "https://flax.readthedocs.io/en/latest/flax.training.html#train-state"
   ]
  },
  {
   "cell_type": "markdown",
   "metadata": {
    "id": "_GL0PsCwnaJw"
   },
   "source": [
    "### Exporting to Tensorflow's SavedModel with jax2tf\n",
    "\n",
    "JAX released an experimental converter called [jax2tf](https://github.com/google/jax/tree/main/jax/experimental/jax2tf), which allows converting trained Flax models into Tensorflow's SavedModel format (so it can be used for [TF Hub](https://www.tensorflow.org/hub), [TF.lite](https://www.tensorflow.org/lite), [TF.js](https://www.tensorflow.org/js), or other downstream applications). The repository contains more documentation and has various examples for Flax."
   ]
  }
 ],
 "metadata": {
  "colab": {
   "name": "Flax basics.ipynb",
   "provenance": [],
   "toc_visible": true
  },
  "kernelspec": {
   "display_name": "Python 3 (ipykernel)",
   "language": "python",
   "name": "python3"
  },
  "language_info": {
   "codemirror_mode": {
    "name": "ipython",
    "version": 3
   },
   "file_extension": ".py",
   "mimetype": "text/x-python",
   "name": "python",
   "nbconvert_exporter": "python",
   "pygments_lexer": "ipython3",
   "version": "3.9.7"
  },
  "toc": {
   "base_numbering": 1,
   "nav_menu": {},
   "number_sections": true,
   "sideBar": true,
   "skip_h1_title": false,
   "title_cell": "Table of Contents",
   "title_sidebar": "Contents",
   "toc_cell": false,
   "toc_position": {},
   "toc_section_display": true,
   "toc_window_display": true
  }
 },
 "nbformat": 4,
 "nbformat_minor": 1
}
